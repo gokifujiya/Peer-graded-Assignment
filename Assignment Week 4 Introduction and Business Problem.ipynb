{
 "cells": [
  {
   "cell_type": "markdown",
   "metadata": {},
   "source": [
    "## Capstone Project - The Battle of Neighborhoods\n",
    "\n",
    "## Segmenting and Clustering Neighborhoods in Scarborough, Toronto\n",
    "\n",
    "##  Introduction and Business Problem\n",
    "\n",
    "These days a new type of industry has been born and grown up dramatically and is demanding more prominent professionals, including data scientists for cutting-edge technologies, such as artificial intelligence. It is also often observed that many professionals are seeking for a new job with better working conditions than those of their current position. Then it must be noted that these job seekers must be concerned not only about the working conditions of the new position, but also about the environment of new life because of changing the job. Generally, changing jobs requires moving to a different residence that is close to the place of work.\n",
    "\n",
    "In this capstone project, a person lives on the West side of the City of Toronto in Canada. This area provides great amenities, including gourmet fast food joints, pharmacies, parks, grad schools, and the like. This person obtains a good job offer from an attractive company, which is, however, located on the East side of the city. Considering the great distance between the West and the East sides in Toronto, changing the job will require moving to the East side of the city. This person is caring about the possibility to live in a neighborhood having a similar environment.\n",
    "\n",
    "Scarborough is a main area in the East side of the City of Toronto. Thus, Scarborough is a great candidate for the job seeker to live in for the new life and job. Therefore, it is desirable to search neighborhoods in Scarborough as to each characteristics and amenities to find out the best new residence for this person. In addition, it is preferable and interesting to compare Scarborough with the City of Toronto as well as Manhattan in New York City to analyze the findings about Scarborough more objectively."
   ]
  }
 ],
 "metadata": {
  "kernelspec": {
   "display_name": "Python 3",
   "language": "python",
   "name": "python3"
  },
  "language_info": {
   "codemirror_mode": {
    "name": "ipython",
    "version": 3
   },
   "file_extension": ".py",
   "mimetype": "text/x-python",
   "name": "python",
   "nbconvert_exporter": "python",
   "pygments_lexer": "ipython3",
   "version": "3.8.5"
  }
 },
 "nbformat": 4,
 "nbformat_minor": 4
}
