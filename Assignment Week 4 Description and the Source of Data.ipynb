{
 "cells": [
  {
   "cell_type": "markdown",
   "metadata": {},
   "source": [
    "## Capstone Project - The Battle of Neighborhoods\n",
    "\n",
    "## Segmenting and Clustering Neighborhoods in Scarborough, Toronto\n",
    "\n",
    "##  Description and the Source of Data\n",
    "\n",
    "In this project, two data were used: Wikipedia and Foursquare API. Wikipedia provides various kinds of information on each page, including postal codes of Canada about each borough and neighborhood. The relevant Wiki page for this project was obtained by using read_html.Link. : https://en.wikipedia.org/wiki/List_of_postal_codes_of_Canada:_M\n",
    "\n",
    "To refine the data, cells were removed in which \"Borough\" is Not assigned. Then, the data were grouped by \"Postal Code\" and \"Borough\" and rows were combined that share the same Postal Code and Borough. If a cell has a borough but a Not assigned neighborhood then the neighborhood was assigned as the same as the borough.\n",
    "\n",
    "Next, geocoder was used to get data for information as to longitude and latitude for each area. After checking the data type and the size of the two data, the two data frames were combined because they share information about postal codes. Then, the index column was removed and “Neighbourhood” was renamed to “Neighborhood” to avoid confusion.\n",
    "\n",
    "On the other hand, Foursquare API provides information as to various matters and events in different venues in different neighborhoods in a specific borough. The information includes venue name, location, category, menus, photos, and so on. This provider produces information of venues within a certain distance from a specific place with the determined longitude and latitude. Thus, this Foursquare location platform is extremely convenient to explore information that is necessary for this project."
   ]
  }
 ],
 "metadata": {
  "kernelspec": {
   "display_name": "Python 3",
   "language": "python",
   "name": "python3"
  },
  "language_info": {
   "codemirror_mode": {
    "name": "ipython",
    "version": 3
   },
   "file_extension": ".py",
   "mimetype": "text/x-python",
   "name": "python",
   "nbconvert_exporter": "python",
   "pygments_lexer": "ipython3",
   "version": "3.8.5"
  }
 },
 "nbformat": 4,
 "nbformat_minor": 4
}
